{
 "cells": [
  {
   "cell_type": "code",
   "execution_count": 1,
   "metadata": {},
   "outputs": [],
   "source": [
    "# use ! to run unix commands from jupyter notebook\n",
    "!echo \"120 west street \\n york street 211\" | grep \"^[0-9]\""
   ]
  }
 ],
 "metadata": {
  "kernelspec": {
   "display_name": "MyProjectEnv",
   "language": "python",
   "name": "python3"
  },
  "language_info": {
   "codemirror_mode": {
    "name": "ipython",
    "version": 3
   },
   "file_extension": ".py",
   "mimetype": "text/x-python",
   "name": "python",
   "nbconvert_exporter": "python",
   "pygments_lexer": "ipython3",
   "version": "3.7.1"
  },
  "orig_nbformat": 4,
  "vscode": {
   "interpreter": {
    "hash": "b9b15de2224dcb5c272187718ba07202d57f00d9991ad2daea1c20486b8ce821"
   }
  }
 },
 "nbformat": 4,
 "nbformat_minor": 2
}
